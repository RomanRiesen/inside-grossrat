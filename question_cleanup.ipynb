{
 "cells": [
  {
   "cell_type": "code",
   "execution_count": null,
   "id": "171769d6",
   "metadata": {},
   "outputs": [],
   "source": [
    "import json\n",
    "import pandas as pd\n",
    "import dataAccess"
   ]
  },
  {
   "cell_type": "code",
   "execution_count": null,
   "id": "2388accf",
   "metadata": {},
   "outputs": [],
   "source": [
    "candidates = dataAccess.read_candidates_from_csv(\"candidates_data.csv\")"
   ]
  },
  {
   "cell_type": "code",
   "execution_count": null,
   "id": "7f5d0633",
   "metadata": {},
   "outputs": [],
   "source": [
    "print(candidates[0])"
   ]
  },
  {
   "cell_type": "code",
   "execution_count": null,
   "id": "9c9a4d7a",
   "metadata": {},
   "outputs": [],
   "source": [
    "for candidate in candidates:\n",
    "    candidate[\"answers\"].sort(key=lambda answer: answer[\"questionId\"])\n",
    "candidates[0]"
   ]
  },
  {
   "cell_type": "code",
   "execution_count": null,
   "id": "8b21dc74",
   "metadata": {},
   "outputs": [],
   "source": [
    "for candidate in candidates:\n",
    "    for answer in candidate[\"answers\"]:\n",
    "        answer[\"value\"] = answer[\"value\"] / 100\n",
    "    if candidate[\"gender\"] == \"m\":\n",
    "        candidate[\"gender\"] = 0\n",
    "        continue\n",
    "    if candidate[\"gender\"] == \"f\":\n",
    "        candidate[\"gender\"] = 1\n",
    "        continue\n",
    "    candidate[\"gender\"] = 0.5\n",
    "candidates[0]"
   ]
  },
  {
   "cell_type": "code",
   "execution_count": null,
   "id": "1dbb3378",
   "metadata": {},
   "outputs": [],
   "source": [
    "for candidate in candidates:\n",
    "    for answer in candidate[\"answers\"]:\n",
    "        candidate[answer[\"questionId\"]] = answer[\"value\"]\n",
    "    del candidate[\"answers\"]\n",
    "candidates[0]"
   ]
  },
  {
   "cell_type": "code",
   "execution_count": null,
   "id": "ea77cd1f",
   "metadata": {},
   "outputs": [],
   "source": [
    "from collections import defaultdict\n",
    "\n",
    "party_count = defaultdict(int)\n",
    "\n",
    "for candidate in candidates:\n",
    "    party = candidate.get(\"partyAbbreviation\")\n",
    "    if party:\n",
    "        party_count[party] += 1\n",
    "\n",
    "considered_parties = set(\n",
    "    [party_name for party_name, count in party_count.items() if count >= 10]\n",
    ")\n",
    "\n",
    "candidates = [\n",
    "    candidate\n",
    "    for candidate in candidates\n",
    "    if candidate[\"partyAbbreviation\"] in considered_parties\n",
    "]"
   ]
  },
  {
   "cell_type": "code",
   "execution_count": null,
   "id": "9f0d67e8",
   "metadata": {},
   "outputs": [],
   "source": [
    "print(len(candidates))  "
   ]
  },
  {
   "cell_type": "code",
   "execution_count": null,
   "id": "0b910bd9",
   "metadata": {},
   "outputs": [],
   "source": [
    "df = pd.DataFrame(candidates)\n",
    "csv_filename = 'filtered_candidates_data.csv'\n",
    "df.to_csv(csv_filename, index=False)\n",
    "print(f\"Data exported to {csv_filename}\")"
   ]
  },
  {
   "cell_type": "code",
   "execution_count": null,
   "id": "d9f72c2b",
   "metadata": {},
   "outputs": [],
   "source": []
  }
 ],
 "metadata": {
  "kernelspec": {
   "display_name": "base",
   "language": "python",
   "name": "python3"
  },
  "language_info": {
   "codemirror_mode": {
    "name": "ipython",
    "version": 3
   },
   "file_extension": ".py",
   "mimetype": "text/x-python",
   "name": "python",
   "nbconvert_exporter": "python",
   "pygments_lexer": "ipython3",
   "version": "3.8.18"
  }
 },
 "nbformat": 4,
 "nbformat_minor": 5
}
