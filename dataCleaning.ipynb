{
 "cells": [
  {
   "cell_type": "code",
   "execution_count": 6,
   "id": "171769d6",
   "metadata": {},
   "outputs": [],
   "source": [
    "import json\n",
    "import pandas as pd\n",
    "import dataAccess"
   ]
  },
  {
   "cell_type": "code",
   "execution_count": 11,
   "id": "2388accf",
   "metadata": {},
   "outputs": [],
   "source": [
    "candidates = dataAccess.read_candidates_from_csv(\"candidates_data.csv\")"
   ]
  },
  {
   "cell_type": "code",
   "execution_count": 13,
   "id": "7f5d0633",
   "metadata": {},
   "outputs": [
    {
     "name": "stdout",
     "output_type": "stream",
     "text": [
      "{'id': 18762, 'firstname': 'Antonio', 'lastname': 'Abate', 'yearOfBirth': 1967.0, 'profileImageUrl': 'https://backend.smartvote.ch/rails/active_storage/blobs/redirect/eyJfcmFpbHMiOnsiZGF0YSI6MjQ2MDYsInB1ciI6ImJsb2JfaWQifX0=--d5bfc75a3430c03e0ed160b8c8ae64dd0caeaffa/9aefd014-2410-4d32-bbd9-b3e0e207e2cc.jpeg', 'isIncumbent': False, 'isElected': False, 'partyAbbreviation': 'Die Mitte', 'partyColor': '#FF9B00', 'hasSmartvoteProfile': True, 'gender': 'm', 'answers': [{'questionId': '5156', 'value': 25}, {'questionId': '5158', 'value': 75}, {'questionId': '5160', 'value': 25}, {'questionId': '5162', 'value': 25}, {'questionId': '5164', 'value': 100}, {'questionId': '5166', 'value': 75}, {'questionId': '5168', 'value': 75}, {'questionId': '5170', 'value': 25}, {'questionId': '5172', 'value': 100}, {'questionId': '5174', 'value': 100}, {'questionId': '5176', 'value': 100}, {'questionId': '5178', 'value': 100}, {'questionId': '5180', 'value': 100}, {'questionId': '5182', 'value': 100}, {'questionId': '5184', 'value': 25}, {'questionId': '5186', 'value': 0}, {'questionId': '5188', 'value': 100}, {'questionId': '5190', 'value': 0}, {'questionId': '5192', 'value': 25}, {'questionId': '5194', 'value': 100}, {'questionId': '5196', 'value': 75}, {'questionId': '5198', 'value': 0}, {'questionId': '5200', 'value': 75}, {'questionId': '5202', 'value': 100}, {'questionId': '5204', 'value': 100}, {'questionId': '5206', 'value': 100}, {'questionId': '5208', 'value': 100}, {'questionId': '5210', 'value': 100}, {'questionId': '5212', 'value': 100}, {'questionId': '5214', 'value': 75}, {'questionId': '5216', 'value': 25}, {'questionId': '5218', 'value': 100}, {'questionId': '5220', 'value': 100}, {'questionId': '5222', 'value': 100}, {'questionId': '5224', 'value': 25}, {'questionId': '5226', 'value': 100}, {'questionId': '5228', 'value': 75}, {'questionId': '5230', 'value': 100}, {'questionId': '5232', 'value': 75}, {'questionId': '5234', 'value': 75}, {'questionId': '5236', 'value': 100}, {'questionId': '5238', 'value': 100}, {'questionId': '5240', 'value': 100}, {'questionId': '5242', 'value': 0}, {'questionId': '5244', 'value': 75}, {'questionId': '5246', 'value': 100}, {'questionId': '5248', 'value': 0}, {'questionId': '5250', 'value': 0}, {'questionId': '5252', 'value': 100}, {'questionId': '5254', 'value': 0}, {'questionId': '5256', 'value': 75}, {'questionId': '5258', 'value': 83}, {'questionId': '5260', 'value': 67}, {'questionId': '5262', 'value': 83}, {'questionId': '5264', 'value': 67}, {'questionId': '5268', 'value': 33}, {'questionId': '5270', 'value': 67}, {'questionId': '5266', 'value': 100}]}\n"
     ]
    }
   ],
   "source": [
    "print(candidates[0])"
   ]
  },
  {
   "cell_type": "code",
   "execution_count": null,
   "id": "9c9a4d7a",
   "metadata": {},
   "outputs": [
    {
     "data": {
      "text/plain": [
       "{'id': 18762,\n",
       " 'firstname': 'Antonio',\n",
       " 'lastname': 'Abate',\n",
       " 'yearOfBirth': 1967.0,\n",
       " 'profileImageUrl': 'https://backend.smartvote.ch/rails/active_storage/blobs/redirect/eyJfcmFpbHMiOnsiZGF0YSI6MjQ2MDYsInB1ciI6ImJsb2JfaWQifX0=--d5bfc75a3430c03e0ed160b8c8ae64dd0caeaffa/9aefd014-2410-4d32-bbd9-b3e0e207e2cc.jpeg',\n",
       " 'isIncumbent': False,\n",
       " 'isElected': False,\n",
       " 'partyAbbreviation': 'Die Mitte',\n",
       " 'partyColor': '#FF9B00',\n",
       " 'hasSmartvoteProfile': True,\n",
       " 'gender': 'm',\n",
       " 'answers': [{'questionId': '5156', 'value': 25},\n",
       "  {'questionId': '5158', 'value': 75},\n",
       "  {'questionId': '5160', 'value': 25},\n",
       "  {'questionId': '5162', 'value': 25},\n",
       "  {'questionId': '5164', 'value': 100},\n",
       "  {'questionId': '5166', 'value': 75},\n",
       "  {'questionId': '5168', 'value': 75},\n",
       "  {'questionId': '5170', 'value': 25},\n",
       "  {'questionId': '5172', 'value': 100},\n",
       "  {'questionId': '5174', 'value': 100},\n",
       "  {'questionId': '5176', 'value': 100},\n",
       "  {'questionId': '5178', 'value': 100},\n",
       "  {'questionId': '5180', 'value': 100},\n",
       "  {'questionId': '5182', 'value': 100},\n",
       "  {'questionId': '5184', 'value': 25},\n",
       "  {'questionId': '5186', 'value': 0},\n",
       "  {'questionId': '5188', 'value': 100},\n",
       "  {'questionId': '5190', 'value': 0},\n",
       "  {'questionId': '5192', 'value': 25},\n",
       "  {'questionId': '5194', 'value': 100},\n",
       "  {'questionId': '5196', 'value': 75},\n",
       "  {'questionId': '5198', 'value': 0},\n",
       "  {'questionId': '5200', 'value': 75},\n",
       "  {'questionId': '5202', 'value': 100},\n",
       "  {'questionId': '5204', 'value': 100},\n",
       "  {'questionId': '5206', 'value': 100},\n",
       "  {'questionId': '5208', 'value': 100},\n",
       "  {'questionId': '5210', 'value': 100},\n",
       "  {'questionId': '5212', 'value': 100},\n",
       "  {'questionId': '5214', 'value': 75},\n",
       "  {'questionId': '5216', 'value': 25},\n",
       "  {'questionId': '5218', 'value': 100},\n",
       "  {'questionId': '5220', 'value': 100},\n",
       "  {'questionId': '5222', 'value': 100},\n",
       "  {'questionId': '5224', 'value': 25},\n",
       "  {'questionId': '5226', 'value': 100},\n",
       "  {'questionId': '5228', 'value': 75},\n",
       "  {'questionId': '5230', 'value': 100},\n",
       "  {'questionId': '5232', 'value': 75},\n",
       "  {'questionId': '5234', 'value': 75},\n",
       "  {'questionId': '5236', 'value': 100},\n",
       "  {'questionId': '5238', 'value': 100},\n",
       "  {'questionId': '5240', 'value': 100},\n",
       "  {'questionId': '5242', 'value': 0},\n",
       "  {'questionId': '5244', 'value': 75},\n",
       "  {'questionId': '5246', 'value': 100},\n",
       "  {'questionId': '5248', 'value': 0},\n",
       "  {'questionId': '5250', 'value': 0},\n",
       "  {'questionId': '5252', 'value': 100},\n",
       "  {'questionId': '5254', 'value': 0},\n",
       "  {'questionId': '5256', 'value': 75},\n",
       "  {'questionId': '5258', 'value': 83},\n",
       "  {'questionId': '5260', 'value': 67},\n",
       "  {'questionId': '5262', 'value': 83},\n",
       "  {'questionId': '5264', 'value': 67},\n",
       "  {'questionId': '5266', 'value': 100},\n",
       "  {'questionId': '5268', 'value': 33},\n",
       "  {'questionId': '5270', 'value': 67}]}"
      ]
     },
     "execution_count": 14,
     "metadata": {},
     "output_type": "execute_result"
    }
   ],
   "source": [
    "for candidate in candidates:\n",
    "    candidate[\"answers\"].sort(key=lambda answer: answer[\"questionId\"])\n",
    "candidates[0]"
   ]
  },
  {
   "cell_type": "code",
   "execution_count": 15,
   "id": "8b21dc74",
   "metadata": {},
   "outputs": [
    {
     "data": {
      "text/plain": [
       "{'id': 18762,\n",
       " 'firstname': 'Antonio',\n",
       " 'lastname': 'Abate',\n",
       " 'yearOfBirth': 1967.0,\n",
       " 'profileImageUrl': 'https://backend.smartvote.ch/rails/active_storage/blobs/redirect/eyJfcmFpbHMiOnsiZGF0YSI6MjQ2MDYsInB1ciI6ImJsb2JfaWQifX0=--d5bfc75a3430c03e0ed160b8c8ae64dd0caeaffa/9aefd014-2410-4d32-bbd9-b3e0e207e2cc.jpeg',\n",
       " 'isIncumbent': False,\n",
       " 'isElected': False,\n",
       " 'partyAbbreviation': 'Die Mitte',\n",
       " 'partyColor': '#FF9B00',\n",
       " 'hasSmartvoteProfile': True,\n",
       " 'gender': 0,\n",
       " 'answers': [{'questionId': '5156', 'value': 0.25},\n",
       "  {'questionId': '5158', 'value': 0.75},\n",
       "  {'questionId': '5160', 'value': 0.25},\n",
       "  {'questionId': '5162', 'value': 0.25},\n",
       "  {'questionId': '5164', 'value': 1.0},\n",
       "  {'questionId': '5166', 'value': 0.75},\n",
       "  {'questionId': '5168', 'value': 0.75},\n",
       "  {'questionId': '5170', 'value': 0.25},\n",
       "  {'questionId': '5172', 'value': 1.0},\n",
       "  {'questionId': '5174', 'value': 1.0},\n",
       "  {'questionId': '5176', 'value': 1.0},\n",
       "  {'questionId': '5178', 'value': 1.0},\n",
       "  {'questionId': '5180', 'value': 1.0},\n",
       "  {'questionId': '5182', 'value': 1.0},\n",
       "  {'questionId': '5184', 'value': 0.25},\n",
       "  {'questionId': '5186', 'value': 0.0},\n",
       "  {'questionId': '5188', 'value': 1.0},\n",
       "  {'questionId': '5190', 'value': 0.0},\n",
       "  {'questionId': '5192', 'value': 0.25},\n",
       "  {'questionId': '5194', 'value': 1.0},\n",
       "  {'questionId': '5196', 'value': 0.75},\n",
       "  {'questionId': '5198', 'value': 0.0},\n",
       "  {'questionId': '5200', 'value': 0.75},\n",
       "  {'questionId': '5202', 'value': 1.0},\n",
       "  {'questionId': '5204', 'value': 1.0},\n",
       "  {'questionId': '5206', 'value': 1.0},\n",
       "  {'questionId': '5208', 'value': 1.0},\n",
       "  {'questionId': '5210', 'value': 1.0},\n",
       "  {'questionId': '5212', 'value': 1.0},\n",
       "  {'questionId': '5214', 'value': 0.75},\n",
       "  {'questionId': '5216', 'value': 0.25},\n",
       "  {'questionId': '5218', 'value': 1.0},\n",
       "  {'questionId': '5220', 'value': 1.0},\n",
       "  {'questionId': '5222', 'value': 1.0},\n",
       "  {'questionId': '5224', 'value': 0.25},\n",
       "  {'questionId': '5226', 'value': 1.0},\n",
       "  {'questionId': '5228', 'value': 0.75},\n",
       "  {'questionId': '5230', 'value': 1.0},\n",
       "  {'questionId': '5232', 'value': 0.75},\n",
       "  {'questionId': '5234', 'value': 0.75},\n",
       "  {'questionId': '5236', 'value': 1.0},\n",
       "  {'questionId': '5238', 'value': 1.0},\n",
       "  {'questionId': '5240', 'value': 1.0},\n",
       "  {'questionId': '5242', 'value': 0.0},\n",
       "  {'questionId': '5244', 'value': 0.75},\n",
       "  {'questionId': '5246', 'value': 1.0},\n",
       "  {'questionId': '5248', 'value': 0.0},\n",
       "  {'questionId': '5250', 'value': 0.0},\n",
       "  {'questionId': '5252', 'value': 1.0},\n",
       "  {'questionId': '5254', 'value': 0.0},\n",
       "  {'questionId': '5256', 'value': 0.75},\n",
       "  {'questionId': '5258', 'value': 0.83},\n",
       "  {'questionId': '5260', 'value': 0.67},\n",
       "  {'questionId': '5262', 'value': 0.83},\n",
       "  {'questionId': '5264', 'value': 0.67},\n",
       "  {'questionId': '5266', 'value': 1.0},\n",
       "  {'questionId': '5268', 'value': 0.33},\n",
       "  {'questionId': '5270', 'value': 0.67}]}"
      ]
     },
     "execution_count": 15,
     "metadata": {},
     "output_type": "execute_result"
    }
   ],
   "source": [
    "for candidate in candidates:\n",
    "    for answer in candidate[\"answers\"]:\n",
    "        answer[\"value\"] = answer[\"value\"] / 100\n",
    "    if candidate[\"gender\"] == \"m\":\n",
    "        candidate[\"gender\"] = 0\n",
    "        continue\n",
    "    if candidate[\"gender\"] == \"f\":\n",
    "        candidate[\"gender\"] = 1\n",
    "        continue\n",
    "    candidate[\"gender\"] = 0.5\n",
    "candidates[0]"
   ]
  },
  {
   "cell_type": "code",
   "execution_count": 16,
   "id": "1dbb3378",
   "metadata": {},
   "outputs": [
    {
     "data": {
      "text/plain": [
       "{'id': 18762,\n",
       " 'firstname': 'Antonio',\n",
       " 'lastname': 'Abate',\n",
       " 'yearOfBirth': 1967.0,\n",
       " 'profileImageUrl': 'https://backend.smartvote.ch/rails/active_storage/blobs/redirect/eyJfcmFpbHMiOnsiZGF0YSI6MjQ2MDYsInB1ciI6ImJsb2JfaWQifX0=--d5bfc75a3430c03e0ed160b8c8ae64dd0caeaffa/9aefd014-2410-4d32-bbd9-b3e0e207e2cc.jpeg',\n",
       " 'isIncumbent': False,\n",
       " 'isElected': False,\n",
       " 'partyAbbreviation': 'Die Mitte',\n",
       " 'partyColor': '#FF9B00',\n",
       " 'hasSmartvoteProfile': True,\n",
       " 'gender': 0,\n",
       " '5156': 0.25,\n",
       " '5158': 0.75,\n",
       " '5160': 0.25,\n",
       " '5162': 0.25,\n",
       " '5164': 1.0,\n",
       " '5166': 0.75,\n",
       " '5168': 0.75,\n",
       " '5170': 0.25,\n",
       " '5172': 1.0,\n",
       " '5174': 1.0,\n",
       " '5176': 1.0,\n",
       " '5178': 1.0,\n",
       " '5180': 1.0,\n",
       " '5182': 1.0,\n",
       " '5184': 0.25,\n",
       " '5186': 0.0,\n",
       " '5188': 1.0,\n",
       " '5190': 0.0,\n",
       " '5192': 0.25,\n",
       " '5194': 1.0,\n",
       " '5196': 0.75,\n",
       " '5198': 0.0,\n",
       " '5200': 0.75,\n",
       " '5202': 1.0,\n",
       " '5204': 1.0,\n",
       " '5206': 1.0,\n",
       " '5208': 1.0,\n",
       " '5210': 1.0,\n",
       " '5212': 1.0,\n",
       " '5214': 0.75,\n",
       " '5216': 0.25,\n",
       " '5218': 1.0,\n",
       " '5220': 1.0,\n",
       " '5222': 1.0,\n",
       " '5224': 0.25,\n",
       " '5226': 1.0,\n",
       " '5228': 0.75,\n",
       " '5230': 1.0,\n",
       " '5232': 0.75,\n",
       " '5234': 0.75,\n",
       " '5236': 1.0,\n",
       " '5238': 1.0,\n",
       " '5240': 1.0,\n",
       " '5242': 0.0,\n",
       " '5244': 0.75,\n",
       " '5246': 1.0,\n",
       " '5248': 0.0,\n",
       " '5250': 0.0,\n",
       " '5252': 1.0,\n",
       " '5254': 0.0,\n",
       " '5256': 0.75,\n",
       " '5258': 0.83,\n",
       " '5260': 0.67,\n",
       " '5262': 0.83,\n",
       " '5264': 0.67,\n",
       " '5266': 1.0,\n",
       " '5268': 0.33,\n",
       " '5270': 0.67}"
      ]
     },
     "execution_count": 16,
     "metadata": {},
     "output_type": "execute_result"
    }
   ],
   "source": [
    "for candidate in candidates:\n",
    "    for answer in candidate[\"answers\"]:\n",
    "        candidate[answer[\"questionId\"]] = answer[\"value\"]\n",
    "    del candidate[\"answers\"]\n",
    "candidates[0]"
   ]
  },
  {
   "cell_type": "code",
   "execution_count": 17,
   "id": "ea77cd1f",
   "metadata": {},
   "outputs": [],
   "source": [
    "from collections import defaultdict\n",
    "\n",
    "party_count = defaultdict(int)\n",
    "\n",
    "for candidate in candidates:\n",
    "    party = candidate.get(\"partyAbbreviation\")\n",
    "    if party:\n",
    "        party_count[party] += 1\n",
    "\n",
    "considered_parties = set(\n",
    "    [party_name for party_name, count in party_count.items() if count >= 10]\n",
    ")\n",
    "\n",
    "candidates = [\n",
    "    candidate\n",
    "    for candidate in candidates\n",
    "    if candidate[\"partyAbbreviation\"] in considered_parties\n",
    "]"
   ]
  },
  {
   "cell_type": "code",
   "execution_count": null,
   "id": "9f0d67e8",
   "metadata": {},
   "outputs": [
    {
     "name": "stdout",
     "output_type": "stream",
     "text": [
      "1815\n"
     ]
    }
   ],
   "source": [
    "print(len(candidates))  "
   ]
  },
  {
   "cell_type": "code",
   "execution_count": 20,
   "id": "0b910bd9",
   "metadata": {},
   "outputs": [
    {
     "name": "stdout",
     "output_type": "stream",
     "text": [
      "Data exported to filtered_candidates_data.csv\n"
     ]
    }
   ],
   "source": [
    "df = pd.DataFrame(candidates)\n",
    "csv_filename = 'filtered_candidates_data.csv'\n",
    "df.to_csv(csv_filename, index=False)\n",
    "print(f\"Data exported to {csv_filename}\")"
   ]
  },
  {
   "cell_type": "code",
   "execution_count": null,
   "id": "d9f72c2b",
   "metadata": {},
   "outputs": [],
   "source": []
  }
 ],
 "metadata": {
  "kernelspec": {
   "display_name": "base",
   "language": "python",
   "name": "python3"
  },
  "language_info": {
   "codemirror_mode": {
    "name": "ipython",
    "version": 3
   },
   "file_extension": ".py",
   "mimetype": "text/x-python",
   "name": "python",
   "nbconvert_exporter": "python",
   "pygments_lexer": "ipython3",
   "version": "3.8.18"
  }
 },
 "nbformat": 4,
 "nbformat_minor": 5
}
