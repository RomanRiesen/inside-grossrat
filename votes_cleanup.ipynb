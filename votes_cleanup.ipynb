{
 "cells": [
  {
   "cell_type": "code",
   "execution_count": 5,
   "id": "3c53d751",
   "metadata": {},
   "outputs": [],
   "source": [
    "import os\n",
    "import requests\n",
    "import pandas as pd\n",
    "import json\n",
    "import csv"
   ]
  },
  {
   "cell_type": "code",
   "execution_count": 6,
   "id": "a8f05512",
   "metadata": {},
   "outputs": [],
   "source": [
    "csv_url = \"https://ogd.parl.apps.be.ch/data/abstimmungsliste.csv\"\n",
    "csv_filename = \"abstimmungsliste.csv\"\n",
    "\n",
    "if not os.path.exists(csv_filename):\n",
    "    response = requests.get(csv_url)\n",
    "    response.raise_for_status()\n",
    "    with open(csv_filename, \"wb\") as f:\n",
    "        f.write(response.content)"
   ]
  },
  {
   "cell_type": "code",
   "execution_count": 7,
   "id": "0fc3c823",
   "metadata": {},
   "outputs": [
    {
     "data": {
      "application/vnd.microsoft.datawrangler.viewer.v0+json": {
       "columns": [
        {
         "name": "index",
         "rawType": "int64",
         "type": "integer"
        },
        {
         "name": "abstimmungsliste_uid",
         "rawType": "object",
         "type": "string"
        },
        {
         "name": "abstimmung_uid",
         "rawType": "object",
         "type": "string"
        },
        {
         "name": "traktandum_uid",
         "rawType": "object",
         "type": "string"
        },
        {
         "name": "mitglied_uid",
         "rawType": "object",
         "type": "string"
        },
        {
         "name": "mitglied_vorname",
         "rawType": "object",
         "type": "string"
        },
        {
         "name": "mitglied_name",
         "rawType": "object",
         "type": "string"
        },
        {
         "name": "abstimmungsliste_stimme",
         "rawType": "object",
         "type": "string"
        },
        {
         "name": "Übersicht vom",
         "rawType": "object",
         "type": "string"
        }
       ],
       "conversionMethod": "pd.DataFrame",
       "ref": "1f63e660-3329-48da-89e1-5a1f47e0653a",
       "rows": [
        [
         "0",
         "4d5daac7-de8e-463e-a761-3074675b55e3",
         "0cb9793f-cb05-4f59-9576-bfe4c329ea02",
         "a3d0be7d3ca2411db7df770f687536a7",
         "c310853a6cf740ecaa932248726d47ba",
         "Madeleine",
         "Amstutz",
         "Nein",
         "2025-05-19 01:30"
        ],
        [
         "1",
         "484bac5f-c221-452b-9d42-daa51f1e0025",
         "0cb9793f-cb05-4f59-9576-bfe4c329ea02",
         "a3d0be7d3ca2411db7df770f687536a7",
         "c2a1d34af2da4d9a9010abb9f27e486b",
         "Jakob",
         "Schwarz",
         "Nein",
         "2025-05-19 01:30"
        ],
        [
         "2",
         "71f55319-6ce6-4eec-85e6-5e8c05c85fb2",
         "0cb9793f-cb05-4f59-9576-bfe4c329ea02",
         "a3d0be7d3ca2411db7df770f687536a7",
         "58b290b0fb5448ca97e90bfb10e3cb8a",
         "Barbara",
         "Maurer",
         "Nein",
         "2025-05-19 01:30"
        ],
        [
         "3",
         "00b33f14-27b1-4927-a0d5-f7edbe0bbae5",
         "0cb9793f-cb05-4f59-9576-bfe4c329ea02",
         "a3d0be7d3ca2411db7df770f687536a7",
         "88d8b686b32746aa89fc69eac570d37c",
         "Bruno",
         "Martin",
         "Nein",
         "2025-05-19 01:30"
        ],
        [
         "4",
         "431bd498-e591-4fbb-8816-d9cd94530932",
         "0cb9793f-cb05-4f59-9576-bfe4c329ea02",
         "a3d0be7d3ca2411db7df770f687536a7",
         "3567f54e8b2d4df0912ce8f73f65c2ab",
         "Samuel",
         "Kullmann",
         "Nein",
         "2025-05-19 01:30"
        ]
       ],
       "shape": {
        "columns": 8,
        "rows": 5
       }
      },
      "text/html": [
       "<div>\n",
       "<style scoped>\n",
       "    .dataframe tbody tr th:only-of-type {\n",
       "        vertical-align: middle;\n",
       "    }\n",
       "\n",
       "    .dataframe tbody tr th {\n",
       "        vertical-align: top;\n",
       "    }\n",
       "\n",
       "    .dataframe thead th {\n",
       "        text-align: right;\n",
       "    }\n",
       "</style>\n",
       "<table border=\"1\" class=\"dataframe\">\n",
       "  <thead>\n",
       "    <tr style=\"text-align: right;\">\n",
       "      <th></th>\n",
       "      <th>abstimmungsliste_uid</th>\n",
       "      <th>abstimmung_uid</th>\n",
       "      <th>traktandum_uid</th>\n",
       "      <th>mitglied_uid</th>\n",
       "      <th>mitglied_vorname</th>\n",
       "      <th>mitglied_name</th>\n",
       "      <th>abstimmungsliste_stimme</th>\n",
       "      <th>Übersicht vom</th>\n",
       "    </tr>\n",
       "  </thead>\n",
       "  <tbody>\n",
       "    <tr>\n",
       "      <th>0</th>\n",
       "      <td>4d5daac7-de8e-463e-a761-3074675b55e3</td>\n",
       "      <td>0cb9793f-cb05-4f59-9576-bfe4c329ea02</td>\n",
       "      <td>a3d0be7d3ca2411db7df770f687536a7</td>\n",
       "      <td>c310853a6cf740ecaa932248726d47ba</td>\n",
       "      <td>Madeleine</td>\n",
       "      <td>Amstutz</td>\n",
       "      <td>Nein</td>\n",
       "      <td>2025-05-19 01:30</td>\n",
       "    </tr>\n",
       "    <tr>\n",
       "      <th>1</th>\n",
       "      <td>484bac5f-c221-452b-9d42-daa51f1e0025</td>\n",
       "      <td>0cb9793f-cb05-4f59-9576-bfe4c329ea02</td>\n",
       "      <td>a3d0be7d3ca2411db7df770f687536a7</td>\n",
       "      <td>c2a1d34af2da4d9a9010abb9f27e486b</td>\n",
       "      <td>Jakob</td>\n",
       "      <td>Schwarz</td>\n",
       "      <td>Nein</td>\n",
       "      <td>2025-05-19 01:30</td>\n",
       "    </tr>\n",
       "    <tr>\n",
       "      <th>2</th>\n",
       "      <td>71f55319-6ce6-4eec-85e6-5e8c05c85fb2</td>\n",
       "      <td>0cb9793f-cb05-4f59-9576-bfe4c329ea02</td>\n",
       "      <td>a3d0be7d3ca2411db7df770f687536a7</td>\n",
       "      <td>58b290b0fb5448ca97e90bfb10e3cb8a</td>\n",
       "      <td>Barbara</td>\n",
       "      <td>Maurer</td>\n",
       "      <td>Nein</td>\n",
       "      <td>2025-05-19 01:30</td>\n",
       "    </tr>\n",
       "    <tr>\n",
       "      <th>3</th>\n",
       "      <td>00b33f14-27b1-4927-a0d5-f7edbe0bbae5</td>\n",
       "      <td>0cb9793f-cb05-4f59-9576-bfe4c329ea02</td>\n",
       "      <td>a3d0be7d3ca2411db7df770f687536a7</td>\n",
       "      <td>88d8b686b32746aa89fc69eac570d37c</td>\n",
       "      <td>Bruno</td>\n",
       "      <td>Martin</td>\n",
       "      <td>Nein</td>\n",
       "      <td>2025-05-19 01:30</td>\n",
       "    </tr>\n",
       "    <tr>\n",
       "      <th>4</th>\n",
       "      <td>431bd498-e591-4fbb-8816-d9cd94530932</td>\n",
       "      <td>0cb9793f-cb05-4f59-9576-bfe4c329ea02</td>\n",
       "      <td>a3d0be7d3ca2411db7df770f687536a7</td>\n",
       "      <td>3567f54e8b2d4df0912ce8f73f65c2ab</td>\n",
       "      <td>Samuel</td>\n",
       "      <td>Kullmann</td>\n",
       "      <td>Nein</td>\n",
       "      <td>2025-05-19 01:30</td>\n",
       "    </tr>\n",
       "  </tbody>\n",
       "</table>\n",
       "</div>"
      ],
      "text/plain": [
       "                   abstimmungsliste_uid                        abstimmung_uid  \\\n",
       "0  4d5daac7-de8e-463e-a761-3074675b55e3  0cb9793f-cb05-4f59-9576-bfe4c329ea02   \n",
       "1  484bac5f-c221-452b-9d42-daa51f1e0025  0cb9793f-cb05-4f59-9576-bfe4c329ea02   \n",
       "2  71f55319-6ce6-4eec-85e6-5e8c05c85fb2  0cb9793f-cb05-4f59-9576-bfe4c329ea02   \n",
       "3  00b33f14-27b1-4927-a0d5-f7edbe0bbae5  0cb9793f-cb05-4f59-9576-bfe4c329ea02   \n",
       "4  431bd498-e591-4fbb-8816-d9cd94530932  0cb9793f-cb05-4f59-9576-bfe4c329ea02   \n",
       "\n",
       "                     traktandum_uid                      mitglied_uid  \\\n",
       "0  a3d0be7d3ca2411db7df770f687536a7  c310853a6cf740ecaa932248726d47ba   \n",
       "1  a3d0be7d3ca2411db7df770f687536a7  c2a1d34af2da4d9a9010abb9f27e486b   \n",
       "2  a3d0be7d3ca2411db7df770f687536a7  58b290b0fb5448ca97e90bfb10e3cb8a   \n",
       "3  a3d0be7d3ca2411db7df770f687536a7  88d8b686b32746aa89fc69eac570d37c   \n",
       "4  a3d0be7d3ca2411db7df770f687536a7  3567f54e8b2d4df0912ce8f73f65c2ab   \n",
       "\n",
       "  mitglied_vorname mitglied_name abstimmungsliste_stimme     Übersicht vom  \n",
       "0        Madeleine       Amstutz                    Nein  2025-05-19 01:30  \n",
       "1            Jakob       Schwarz                    Nein  2025-05-19 01:30  \n",
       "2          Barbara        Maurer                    Nein  2025-05-19 01:30  \n",
       "3            Bruno        Martin                    Nein  2025-05-19 01:30  \n",
       "4           Samuel      Kullmann                    Nein  2025-05-19 01:30  "
      ]
     },
     "metadata": {},
     "output_type": "display_data"
    }
   ],
   "source": [
    "dataframe = pd.read_csv(csv_filename)\n",
    "\n",
    "display(dataframe.head(5))"
   ]
  },
  {
   "cell_type": "code",
   "execution_count": 8,
   "id": "8a934ed3",
   "metadata": {},
   "outputs": [
    {
     "name": "stdout",
     "output_type": "stream",
     "text": [
      "Result written to votes.csv\n"
     ]
    }
   ],
   "source": [
    "def vote_to_int(vote):\n",
    "    if vote == \"Enthalten\":\n",
    "        return 0\n",
    "    elif vote == \"Ja\":\n",
    "        return 1\n",
    "    elif vote == \"Nein\":\n",
    "        return 2\n",
    "    else:\n",
    "        return -1\n",
    "\n",
    "# Get all unique abstimmung_uid values in the order they appear\n",
    "abstimmung_uids = list(dict.fromkeys(dataframe[\"abstimmung_uid\"]))\n",
    "\n",
    "# Prepare header for CSV\n",
    "header = [\"id\", \"first_name\", \"last_name\"] + abstimmung_uids\n",
    "\n",
    "# Prepare a mapping from mitglied_uid to their row data\n",
    "rows = {}\n",
    "for _, row in dataframe.iterrows():\n",
    "    mitglied_uid = row[\"mitglied_uid\"]\n",
    "    if mitglied_uid not in rows:\n",
    "        rows[mitglied_uid] = {\n",
    "            \"id\": mitglied_uid,\n",
    "            \"first_name\": row[\"mitglied_vorname\"],\n",
    "            \"last_name\": row[\"mitglied_name\"],\n",
    "            **{uid: -1 for uid in abstimmung_uids},  # fill with -1 by default\n",
    "        }\n",
    "    abstimmung_uid = row[\"abstimmung_uid\"]\n",
    "    stimme = vote_to_int(row[\"abstimmungsliste_stimme\"])\n",
    "    rows[mitglied_uid][abstimmung_uid] = stimme\n",
    "\n",
    "# Write to CSV\n",
    "with open(\"votes.csv\", \"w\", encoding=\"utf-8\", newline=\"\") as f:\n",
    "    writer = csv.DictWriter(f, fieldnames=header)\n",
    "    writer.writeheader()\n",
    "    for row in rows.values():\n",
    "        writer.writerow(row)\n",
    "print(\"Result written to votes.csv\")\n"
   ]
  }
 ],
 "metadata": {
  "kernelspec": {
   "display_name": "ettikettenschwindel-QMFvM9qk",
   "language": "python",
   "name": "python3"
  },
  "language_info": {
   "codemirror_mode": {
    "name": "ipython",
    "version": 3
   },
   "file_extension": ".py",
   "mimetype": "text/x-python",
   "name": "python",
   "nbconvert_exporter": "python",
   "pygments_lexer": "ipython3",
   "version": "3.13.2"
  }
 },
 "nbformat": 4,
 "nbformat_minor": 5
}
