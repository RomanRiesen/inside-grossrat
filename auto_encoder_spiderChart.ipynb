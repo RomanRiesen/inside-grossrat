{
 "cells": [
  {
   "cell_type": "code",
   "execution_count": 23,
   "id": "ba990b74",
   "metadata": {},
   "outputs": [],
   "source": [
    "import pandas as pd\n",
    "import numpy as np\n",
    "import matplotlib.pyplot as plt\n",
    "import tensorflow as tf\n",
    "from tensorflow.keras import layers, models\n",
    "import json\n",
    "import ast\n",
    "from sklearn.preprocessing import MinMaxScaler\n",
    "import matplotlib.cm as cm\n",
    "\n",
    "# Load the data\n",
    "df = pd.read_csv('candidates_with_questions.csv')\n"
   ]
  },
  {
   "cell_type": "code",
   "execution_count": 24,
   "id": "bd3858fd",
   "metadata": {},
   "outputs": [],
   "source": [
    "# Process the answers column to get a numeric matrix\n",
    "def extract_answers(row):\n",
    "    # Convert string representation of list to actual list\n",
    "    answers = ast.literal_eval(row['answers'])\n",
    "    # Create dictionary with questionId as key and value as value\n",
    "    return {item['questionId']: item['value']/100 for item in answers}\n",
    "\n",
    "# Apply extraction to each row\n",
    "candidates_answers = df.apply(extract_answers, axis=1)\n",
    "\n",
    "# Create a dataframe with all questions\n",
    "question_ids = set()\n",
    "for answers in candidates_answers:\n",
    "    question_ids.update(answers.keys())\n",
    "question_ids = sorted(question_ids)\n"
   ]
  },
  {
   "cell_type": "code",
   "execution_count": 25,
   "id": "6c30a972",
   "metadata": {},
   "outputs": [],
   "source": [
    "# Create feature matrix\n",
    "X = np.zeros((len(df), len(question_ids)))\n",
    "for i, answers in enumerate(candidates_answers):\n",
    "    for j, q_id in enumerate(question_ids):\n",
    "        if q_id in answers:\n",
    "            X[i, j] = answers[q_id]\n"
   ]
  },
  {
   "cell_type": "code",
   "execution_count": 26,
   "id": "a65c3aa1",
   "metadata": {},
   "outputs": [
    {
     "name": "stdout",
     "output_type": "stream",
     "text": [
      "58\n"
     ]
    }
   ],
   "source": [
    "print(X.shape[1])"
   ]
  },
  {
   "cell_type": "code",
   "execution_count": 27,
   "id": "68311d71",
   "metadata": {},
   "outputs": [],
   "source": [
    "\n",
    "# Build autoencoder model\n",
    "input_dim = X.shape[1]\n",
    "encoding_dim = 4  # Number of dimensions for spider chart\n",
    "\n",
    "# Encoder\n",
    "input_layer = layers.Input(shape=(input_dim,))\n",
    "encoded = layers.Dense(32, activation='gelu')(input_layer)\n",
    "encoded = layers.Dense(16, activation='gelu')(encoded)\n",
    "encoded = layers.Dense(encoding_dim, activation='sigmoid')(encoded)\n",
    "\n",
    "# Decoder\n",
    "decoded = layers.Dense(16, activation='gelu')(encoded)\n",
    "decoded = layers.Dense(32, activation='gelu')(decoded)\n",
    "decoded = layers.Dense(input_dim, activation='sigmoid')(decoded)\n",
    "\n",
    "# Models\n",
    "autoencoder = models.Model(input_layer, decoded)\n",
    "encoder = models.Model(input_layer, encoded)"
   ]
  },
  {
   "cell_type": "code",
   "execution_count": 28,
   "id": "b833e7f7",
   "metadata": {},
   "outputs": [
    {
     "name": "stdout",
     "output_type": "stream",
     "text": [
      "Epoch 1/100\n",
      "94/94 [==============================] - 1s 2ms/step - loss: 0.6595 - val_loss: 0.6070\n",
      "Epoch 2/100\n",
      "94/94 [==============================] - 0s 754us/step - loss: 0.5651 - val_loss: 0.5239\n",
      "Epoch 3/100\n",
      "94/94 [==============================] - 0s 791us/step - loss: 0.5076 - val_loss: 0.4848\n",
      "Epoch 4/100\n",
      "94/94 [==============================] - 0s 2ms/step - loss: 0.4893 - val_loss: 0.4800\n",
      "Epoch 5/100\n",
      "94/94 [==============================] - 0s 829us/step - loss: 0.4863 - val_loss: 0.4782\n",
      "Epoch 6/100\n",
      "94/94 [==============================] - 0s 1ms/step - loss: 0.4852 - val_loss: 0.4777\n",
      "Epoch 7/100\n",
      "94/94 [==============================] - 0s 1ms/step - loss: 0.4844 - val_loss: 0.4771\n",
      "Epoch 8/100\n",
      "94/94 [==============================] - 0s 809us/step - loss: 0.4840 - val_loss: 0.4769\n",
      "Epoch 9/100\n",
      "94/94 [==============================] - 0s 1ms/step - loss: 0.4835 - val_loss: 0.4773\n",
      "Epoch 10/100\n",
      "94/94 [==============================] - 0s 767us/step - loss: 0.4833 - val_loss: 0.4764\n",
      "Epoch 11/100\n",
      "94/94 [==============================] - 0s 783us/step - loss: 0.4830 - val_loss: 0.4767\n",
      "Epoch 12/100\n",
      "94/94 [==============================] - 0s 782us/step - loss: 0.4827 - val_loss: 0.4765\n",
      "Epoch 13/100\n",
      "94/94 [==============================] - 0s 767us/step - loss: 0.4824 - val_loss: 0.4756\n",
      "Epoch 14/100\n",
      "94/94 [==============================] - 0s 750us/step - loss: 0.4822 - val_loss: 0.4754\n",
      "Epoch 15/100\n",
      "94/94 [==============================] - 0s 711us/step - loss: 0.4818 - val_loss: 0.4750\n",
      "Epoch 16/100\n",
      "94/94 [==============================] - 0s 703us/step - loss: 0.4813 - val_loss: 0.4743\n",
      "Epoch 17/100\n",
      "94/94 [==============================] - 0s 769us/step - loss: 0.4793 - val_loss: 0.4707\n",
      "Epoch 18/100\n",
      "94/94 [==============================] - 0s 771us/step - loss: 0.4748 - val_loss: 0.4669\n",
      "Epoch 19/100\n",
      "94/94 [==============================] - 0s 755us/step - loss: 0.4693 - val_loss: 0.4604\n",
      "Epoch 20/100\n",
      "94/94 [==============================] - 0s 1ms/step - loss: 0.4623 - val_loss: 0.4544\n",
      "Epoch 21/100\n",
      "94/94 [==============================] - 0s 870us/step - loss: 0.4576 - val_loss: 0.4514\n",
      "Epoch 22/100\n",
      "94/94 [==============================] - 0s 802us/step - loss: 0.4552 - val_loss: 0.4497\n",
      "Epoch 23/100\n",
      "94/94 [==============================] - 0s 798us/step - loss: 0.4541 - val_loss: 0.4485\n",
      "Epoch 24/100\n",
      "94/94 [==============================] - 0s 735us/step - loss: 0.4531 - val_loss: 0.4478\n",
      "Epoch 25/100\n",
      "94/94 [==============================] - 0s 761us/step - loss: 0.4527 - val_loss: 0.4472\n",
      "Epoch 26/100\n",
      "94/94 [==============================] - 0s 795us/step - loss: 0.4520 - val_loss: 0.4470\n",
      "Epoch 27/100\n",
      "94/94 [==============================] - 0s 791us/step - loss: 0.4516 - val_loss: 0.4469\n",
      "Epoch 28/100\n",
      "94/94 [==============================] - 0s 731us/step - loss: 0.4511 - val_loss: 0.4458\n",
      "Epoch 29/100\n",
      "94/94 [==============================] - 0s 799us/step - loss: 0.4505 - val_loss: 0.4458\n",
      "Epoch 30/100\n",
      "94/94 [==============================] - 0s 786us/step - loss: 0.4497 - val_loss: 0.4444\n",
      "Epoch 31/100\n",
      "94/94 [==============================] - 0s 831us/step - loss: 0.4484 - val_loss: 0.4432\n",
      "Epoch 32/100\n",
      "94/94 [==============================] - 0s 786us/step - loss: 0.4456 - val_loss: 0.4404\n",
      "Epoch 33/100\n",
      "94/94 [==============================] - 0s 849us/step - loss: 0.4426 - val_loss: 0.4380\n",
      "Epoch 34/100\n",
      "94/94 [==============================] - 0s 882us/step - loss: 0.4403 - val_loss: 0.4370\n",
      "Epoch 35/100\n",
      "94/94 [==============================] - 0s 1ms/step - loss: 0.4390 - val_loss: 0.4355\n",
      "Epoch 36/100\n",
      "94/94 [==============================] - 0s 814us/step - loss: 0.4379 - val_loss: 0.4351\n",
      "Epoch 37/100\n",
      "94/94 [==============================] - 0s 771us/step - loss: 0.4373 - val_loss: 0.4342\n",
      "Epoch 38/100\n",
      "94/94 [==============================] - 0s 733us/step - loss: 0.4368 - val_loss: 0.4335\n",
      "Epoch 39/100\n",
      "94/94 [==============================] - 0s 700us/step - loss: 0.4361 - val_loss: 0.4337\n",
      "Epoch 40/100\n",
      "94/94 [==============================] - 0s 701us/step - loss: 0.4357 - val_loss: 0.4332\n",
      "Epoch 41/100\n",
      "94/94 [==============================] - 0s 723us/step - loss: 0.4352 - val_loss: 0.4327\n",
      "Epoch 42/100\n",
      "94/94 [==============================] - 0s 783us/step - loss: 0.4349 - val_loss: 0.4325\n",
      "Epoch 43/100\n",
      "94/94 [==============================] - 0s 770us/step - loss: 0.4346 - val_loss: 0.4324\n",
      "Epoch 44/100\n",
      "94/94 [==============================] - 0s 702us/step - loss: 0.4343 - val_loss: 0.4318\n",
      "Epoch 45/100\n",
      "94/94 [==============================] - 0s 701us/step - loss: 0.4340 - val_loss: 0.4318\n",
      "Epoch 46/100\n",
      "94/94 [==============================] - 0s 716us/step - loss: 0.4338 - val_loss: 0.4314\n",
      "Epoch 47/100\n",
      "94/94 [==============================] - 0s 756us/step - loss: 0.4335 - val_loss: 0.4315\n",
      "Epoch 48/100\n",
      "94/94 [==============================] - 0s 746us/step - loss: 0.4333 - val_loss: 0.4315\n",
      "Epoch 49/100\n",
      "94/94 [==============================] - 0s 737us/step - loss: 0.4331 - val_loss: 0.4309\n",
      "Epoch 50/100\n",
      "94/94 [==============================] - 0s 726us/step - loss: 0.4327 - val_loss: 0.4309\n",
      "Epoch 51/100\n",
      "94/94 [==============================] - 0s 705us/step - loss: 0.4329 - val_loss: 0.4306\n",
      "Epoch 52/100\n",
      "94/94 [==============================] - 0s 734us/step - loss: 0.4323 - val_loss: 0.4306\n",
      "Epoch 53/100\n",
      "94/94 [==============================] - 0s 747us/step - loss: 0.4320 - val_loss: 0.4302\n",
      "Epoch 54/100\n",
      "94/94 [==============================] - 0s 720us/step - loss: 0.4321 - val_loss: 0.4302\n",
      "Epoch 55/100\n",
      "94/94 [==============================] - 0s 712us/step - loss: 0.4318 - val_loss: 0.4300\n",
      "Epoch 56/100\n",
      "94/94 [==============================] - 0s 708us/step - loss: 0.4315 - val_loss: 0.4297\n",
      "Epoch 57/100\n",
      "94/94 [==============================] - 0s 1ms/step - loss: 0.4313 - val_loss: 0.4297\n",
      "Epoch 58/100\n",
      "94/94 [==============================] - 0s 790us/step - loss: 0.4311 - val_loss: 0.4293\n",
      "Epoch 59/100\n",
      "94/94 [==============================] - 0s 773us/step - loss: 0.4309 - val_loss: 0.4291\n",
      "Epoch 60/100\n",
      "94/94 [==============================] - 0s 806us/step - loss: 0.4304 - val_loss: 0.4291\n",
      "Epoch 61/100\n",
      "94/94 [==============================] - 0s 706us/step - loss: 0.4301 - val_loss: 0.4285\n",
      "Epoch 62/100\n",
      "94/94 [==============================] - 0s 698us/step - loss: 0.4299 - val_loss: 0.4289\n",
      "Epoch 63/100\n",
      "94/94 [==============================] - 0s 798us/step - loss: 0.4293 - val_loss: 0.4280\n",
      "Epoch 64/100\n",
      "94/94 [==============================] - 0s 693us/step - loss: 0.4288 - val_loss: 0.4268\n",
      "Epoch 65/100\n",
      "94/94 [==============================] - 0s 712us/step - loss: 0.4278 - val_loss: 0.4259\n",
      "Epoch 66/100\n",
      "94/94 [==============================] - 0s 708us/step - loss: 0.4266 - val_loss: 0.4253\n",
      "Epoch 67/100\n",
      "94/94 [==============================] - 0s 732us/step - loss: 0.4258 - val_loss: 0.4246\n",
      "Epoch 68/100\n",
      "94/94 [==============================] - 0s 750us/step - loss: 0.4247 - val_loss: 0.4239\n",
      "Epoch 69/100\n",
      "94/94 [==============================] - 0s 777us/step - loss: 0.4239 - val_loss: 0.4231\n",
      "Epoch 70/100\n",
      "94/94 [==============================] - 0s 782us/step - loss: 0.4232 - val_loss: 0.4224\n",
      "Epoch 71/100\n",
      "94/94 [==============================] - 0s 791us/step - loss: 0.4229 - val_loss: 0.4223\n",
      "Epoch 72/100\n",
      "94/94 [==============================] - 0s 777us/step - loss: 0.4223 - val_loss: 0.4218\n",
      "Epoch 73/100\n",
      "94/94 [==============================] - 0s 782us/step - loss: 0.4219 - val_loss: 0.4214\n",
      "Epoch 74/100\n",
      "94/94 [==============================] - 0s 783us/step - loss: 0.4215 - val_loss: 0.4213\n",
      "Epoch 75/100\n",
      "94/94 [==============================] - 0s 786us/step - loss: 0.4214 - val_loss: 0.4207\n",
      "Epoch 76/100\n",
      "94/94 [==============================] - 0s 783us/step - loss: 0.4209 - val_loss: 0.4210\n",
      "Epoch 77/100\n",
      "94/94 [==============================] - 0s 744us/step - loss: 0.4206 - val_loss: 0.4201\n",
      "Epoch 78/100\n",
      "94/94 [==============================] - 0s 756us/step - loss: 0.4206 - val_loss: 0.4204\n",
      "Epoch 79/100\n",
      "94/94 [==============================] - 0s 754us/step - loss: 0.4202 - val_loss: 0.4205\n",
      "Epoch 80/100\n",
      "94/94 [==============================] - 0s 1ms/step - loss: 0.4201 - val_loss: 0.4195\n",
      "Epoch 81/100\n",
      "94/94 [==============================] - 0s 735us/step - loss: 0.4199 - val_loss: 0.4200\n",
      "Epoch 82/100\n",
      "94/94 [==============================] - 0s 740us/step - loss: 0.4197 - val_loss: 0.4194\n",
      "Epoch 83/100\n",
      "94/94 [==============================] - 0s 741us/step - loss: 0.4195 - val_loss: 0.4195\n",
      "Epoch 84/100\n",
      "94/94 [==============================] - 0s 737us/step - loss: 0.4195 - val_loss: 0.4194\n",
      "Epoch 85/100\n",
      "94/94 [==============================] - 0s 711us/step - loss: 0.4192 - val_loss: 0.4191\n",
      "Epoch 86/100\n",
      "94/94 [==============================] - 0s 709us/step - loss: 0.4190 - val_loss: 0.4190\n",
      "Epoch 87/100\n",
      "94/94 [==============================] - 0s 714us/step - loss: 0.4188 - val_loss: 0.4190\n",
      "Epoch 88/100\n",
      "94/94 [==============================] - 0s 747us/step - loss: 0.4187 - val_loss: 0.4186\n",
      "Epoch 89/100\n",
      "94/94 [==============================] - 0s 703us/step - loss: 0.4186 - val_loss: 0.4183\n",
      "Epoch 90/100\n",
      "94/94 [==============================] - 0s 712us/step - loss: 0.4186 - val_loss: 0.4188\n",
      "Epoch 91/100\n",
      "94/94 [==============================] - 0s 698us/step - loss: 0.4184 - val_loss: 0.4183\n",
      "Epoch 92/100\n",
      "94/94 [==============================] - 0s 717us/step - loss: 0.4182 - val_loss: 0.4186\n",
      "Epoch 93/100\n",
      "94/94 [==============================] - 0s 721us/step - loss: 0.4181 - val_loss: 0.4182\n",
      "Epoch 94/100\n",
      "94/94 [==============================] - 0s 718us/step - loss: 0.4181 - val_loss: 0.4182\n",
      "Epoch 95/100\n",
      "94/94 [==============================] - 0s 716us/step - loss: 0.4180 - val_loss: 0.4182\n",
      "Epoch 96/100\n",
      "94/94 [==============================] - 0s 722us/step - loss: 0.4178 - val_loss: 0.4180\n",
      "Epoch 97/100\n",
      "94/94 [==============================] - 0s 739us/step - loss: 0.4178 - val_loss: 0.4187\n",
      "Epoch 98/100\n",
      "94/94 [==============================] - 0s 735us/step - loss: 0.4179 - val_loss: 0.4180\n",
      "Epoch 99/100\n",
      "94/94 [==============================] - 0s 720us/step - loss: 0.4175 - val_loss: 0.4177\n",
      "Epoch 100/100\n",
      "94/94 [==============================] - 0s 741us/step - loss: 0.4175 - val_loss: 0.4181\n",
      "12/12 [==============================] - 0s 354us/step\n"
     ]
    }
   ],
   "source": [
    "# Compile and train\n",
    "from sklearn.model_selection import train_test_split\n",
    "\n",
    "X_train, X_test = train_test_split(X, test_size=0.2, random_state=42)\n",
    "\n",
    "\n",
    "autoencoder.compile(optimizer='adam', loss='bce')\n",
    "autoencoder.fit(X_train, X_train, epochs=100, batch_size=16, shuffle=True, validation_data=(X_test, X_test))\n",
    "\n",
    "encoded_features = encoder.predict(X_test)"
   ]
  },
  {
   "cell_type": "code",
   "execution_count": 29,
   "id": "6e169292",
   "metadata": {},
   "outputs": [
    {
     "name": "stdout",
     "output_type": "stream",
     "text": [
      "12/12 [==============================] - 0s 463us/step\n"
     ]
    },
    {
     "ename": "AssertionError",
     "evalue": "\nArrays are not almost equal to 1 decimals\n\nMismatched elements: 2980 / 21808 (13.7%)\nMax absolute difference: 0.39426103\nMax relative difference: 204.56011051\n x: array([[0. , 0.4, 0. , ..., 0.3, 0.1, 0.3],\n       [0. , 0.4, 0. , ..., 0.3, 0.2, 0.4],\n       [0.1, 0.4, 0. , ..., 0.3, 0. , 0.3],...\n y: array([[0.1, 0.4, 0. , ..., 0.2, 0.1, 0.4],\n       [0.1, 0.4, 0. , ..., 0.3, 0.1, 0.3],\n       [0.3, 0.3, 0. , ..., 0.2, 0.1, 0.3],...",
     "output_type": "error",
     "traceback": [
      "\u001b[0;31m---------------------------------------------------------------------------\u001b[0m",
      "\u001b[0;31mAssertionError\u001b[0m                            Traceback (most recent call last)",
      "Cell \u001b[0;32mIn[29], line 3\u001b[0m\n\u001b[1;32m      1\u001b[0m last_layer \u001b[38;5;241m=\u001b[39m autoencoder\u001b[38;5;241m.\u001b[39mpredict(X_test)\n\u001b[0;32m----> 3\u001b[0m \u001b[43mnp\u001b[49m\u001b[38;5;241;43m.\u001b[39;49m\u001b[43mtesting\u001b[49m\u001b[38;5;241;43m.\u001b[39;49m\u001b[43massert_almost_equal\u001b[49m\u001b[43m(\u001b[49m\u001b[43mX_test\u001b[49m\u001b[38;5;241;43m/\u001b[39;49m\u001b[38;5;241;43m2.5\u001b[39;49m\u001b[43m,\u001b[49m\u001b[43m \u001b[49m\u001b[43mlast_layer\u001b[49m\u001b[38;5;241;43m/\u001b[39;49m\u001b[38;5;241;43m2.5\u001b[39;49m\u001b[43m,\u001b[49m\u001b[43m \u001b[49m\u001b[38;5;241;43m1\u001b[39;49m\u001b[43m)\u001b[49m\n",
      "File \u001b[0;32m/opt/homebrew/Cellar/python@3.10/3.10.15/Frameworks/Python.framework/Versions/3.10/lib/python3.10/contextlib.py:79\u001b[0m, in \u001b[0;36mContextDecorator.__call__.<locals>.inner\u001b[0;34m(*args, **kwds)\u001b[0m\n\u001b[1;32m     76\u001b[0m \u001b[38;5;129m@wraps\u001b[39m(func)\n\u001b[1;32m     77\u001b[0m \u001b[38;5;28;01mdef\u001b[39;00m \u001b[38;5;21minner\u001b[39m(\u001b[38;5;241m*\u001b[39margs, \u001b[38;5;241m*\u001b[39m\u001b[38;5;241m*\u001b[39mkwds):\n\u001b[1;32m     78\u001b[0m     \u001b[38;5;28;01mwith\u001b[39;00m \u001b[38;5;28mself\u001b[39m\u001b[38;5;241m.\u001b[39m_recreate_cm():\n\u001b[0;32m---> 79\u001b[0m         \u001b[38;5;28;01mreturn\u001b[39;00m \u001b[43mfunc\u001b[49m\u001b[43m(\u001b[49m\u001b[38;5;241;43m*\u001b[39;49m\u001b[43margs\u001b[49m\u001b[43m,\u001b[49m\u001b[43m \u001b[49m\u001b[38;5;241;43m*\u001b[39;49m\u001b[38;5;241;43m*\u001b[39;49m\u001b[43mkwds\u001b[49m\u001b[43m)\u001b[49m\n",
      "    \u001b[0;31m[... skipping hidden 1 frame]\u001b[0m\n",
      "File \u001b[0;32m/opt/homebrew/Cellar/python@3.10/3.10.15/Frameworks/Python.framework/Versions/3.10/lib/python3.10/contextlib.py:79\u001b[0m, in \u001b[0;36mContextDecorator.__call__.<locals>.inner\u001b[0;34m(*args, **kwds)\u001b[0m\n\u001b[1;32m     76\u001b[0m \u001b[38;5;129m@wraps\u001b[39m(func)\n\u001b[1;32m     77\u001b[0m \u001b[38;5;28;01mdef\u001b[39;00m \u001b[38;5;21minner\u001b[39m(\u001b[38;5;241m*\u001b[39margs, \u001b[38;5;241m*\u001b[39m\u001b[38;5;241m*\u001b[39mkwds):\n\u001b[1;32m     78\u001b[0m     \u001b[38;5;28;01mwith\u001b[39;00m \u001b[38;5;28mself\u001b[39m\u001b[38;5;241m.\u001b[39m_recreate_cm():\n\u001b[0;32m---> 79\u001b[0m         \u001b[38;5;28;01mreturn\u001b[39;00m \u001b[43mfunc\u001b[49m\u001b[43m(\u001b[49m\u001b[38;5;241;43m*\u001b[39;49m\u001b[43margs\u001b[49m\u001b[43m,\u001b[49m\u001b[43m \u001b[49m\u001b[38;5;241;43m*\u001b[39;49m\u001b[38;5;241;43m*\u001b[39;49m\u001b[43mkwds\u001b[49m\u001b[43m)\u001b[49m\n",
      "    \u001b[0;31m[... skipping hidden 1 frame]\u001b[0m\n",
      "File \u001b[0;32m/opt/homebrew/Cellar/python@3.10/3.10.15/Frameworks/Python.framework/Versions/3.10/lib/python3.10/contextlib.py:79\u001b[0m, in \u001b[0;36mContextDecorator.__call__.<locals>.inner\u001b[0;34m(*args, **kwds)\u001b[0m\n\u001b[1;32m     76\u001b[0m \u001b[38;5;129m@wraps\u001b[39m(func)\n\u001b[1;32m     77\u001b[0m \u001b[38;5;28;01mdef\u001b[39;00m \u001b[38;5;21minner\u001b[39m(\u001b[38;5;241m*\u001b[39margs, \u001b[38;5;241m*\u001b[39m\u001b[38;5;241m*\u001b[39mkwds):\n\u001b[1;32m     78\u001b[0m     \u001b[38;5;28;01mwith\u001b[39;00m \u001b[38;5;28mself\u001b[39m\u001b[38;5;241m.\u001b[39m_recreate_cm():\n\u001b[0;32m---> 79\u001b[0m         \u001b[38;5;28;01mreturn\u001b[39;00m \u001b[43mfunc\u001b[49m\u001b[43m(\u001b[49m\u001b[38;5;241;43m*\u001b[39;49m\u001b[43margs\u001b[49m\u001b[43m,\u001b[49m\u001b[43m \u001b[49m\u001b[38;5;241;43m*\u001b[39;49m\u001b[38;5;241;43m*\u001b[39;49m\u001b[43mkwds\u001b[49m\u001b[43m)\u001b[49m\n",
      "File \u001b[0;32m/opt/homebrew/lib/python3.10/site-packages/numpy/testing/_private/utils.py:797\u001b[0m, in \u001b[0;36massert_array_compare\u001b[0;34m(comparison, x, y, err_msg, verbose, header, precision, equal_nan, equal_inf, strict)\u001b[0m\n\u001b[1;32m    793\u001b[0m         err_msg \u001b[38;5;241m+\u001b[39m\u001b[38;5;241m=\u001b[39m \u001b[38;5;124m'\u001b[39m\u001b[38;5;130;01m\\n\u001b[39;00m\u001b[38;5;124m'\u001b[39m \u001b[38;5;241m+\u001b[39m \u001b[38;5;124m'\u001b[39m\u001b[38;5;130;01m\\n\u001b[39;00m\u001b[38;5;124m'\u001b[39m\u001b[38;5;241m.\u001b[39mjoin(remarks)\n\u001b[1;32m    794\u001b[0m         msg \u001b[38;5;241m=\u001b[39m build_err_msg([ox, oy], err_msg,\n\u001b[1;32m    795\u001b[0m                             verbose\u001b[38;5;241m=\u001b[39mverbose, header\u001b[38;5;241m=\u001b[39mheader,\n\u001b[1;32m    796\u001b[0m                             names\u001b[38;5;241m=\u001b[39m(\u001b[38;5;124m'\u001b[39m\u001b[38;5;124mx\u001b[39m\u001b[38;5;124m'\u001b[39m, \u001b[38;5;124m'\u001b[39m\u001b[38;5;124my\u001b[39m\u001b[38;5;124m'\u001b[39m), precision\u001b[38;5;241m=\u001b[39mprecision)\n\u001b[0;32m--> 797\u001b[0m         \u001b[38;5;28;01mraise\u001b[39;00m \u001b[38;5;167;01mAssertionError\u001b[39;00m(msg)\n\u001b[1;32m    798\u001b[0m \u001b[38;5;28;01mexcept\u001b[39;00m \u001b[38;5;167;01mValueError\u001b[39;00m:\n\u001b[1;32m    799\u001b[0m     \u001b[38;5;28;01mimport\u001b[39;00m \u001b[38;5;21;01mtraceback\u001b[39;00m\n",
      "\u001b[0;31mAssertionError\u001b[0m: \nArrays are not almost equal to 1 decimals\n\nMismatched elements: 2980 / 21808 (13.7%)\nMax absolute difference: 0.39426103\nMax relative difference: 204.56011051\n x: array([[0. , 0.4, 0. , ..., 0.3, 0.1, 0.3],\n       [0. , 0.4, 0. , ..., 0.3, 0.2, 0.4],\n       [0.1, 0.4, 0. , ..., 0.3, 0. , 0.3],...\n y: array([[0.1, 0.4, 0. , ..., 0.2, 0.1, 0.4],\n       [0.1, 0.4, 0. , ..., 0.3, 0.1, 0.3],\n       [0.3, 0.3, 0. , ..., 0.2, 0.1, 0.3],..."
     ]
    }
   ],
   "source": [
    "last_layer = autoencoder.predict(X_test)\n",
    "\n",
    "np.testing.assert_almost_equal(X_test/2.5, last_layer/2.5, 1)"
   ]
  },
  {
   "cell_type": "code",
   "execution_count": 30,
   "id": "b7607be1",
   "metadata": {},
   "outputs": [
    {
     "data": {
      "text/plain": [
       "array([[0.25, 0.75, 0.25, ..., 1.  , 0.33, 0.67],\n",
       "       [1.  , 0.25, 0.25, ..., 0.67, 0.67, 0.67],\n",
       "       [0.  , 1.  , 0.  , ..., 0.83, 0.  , 1.  ],\n",
       "       ...,\n",
       "       [0.  , 1.  , 0.  , ..., 1.  , 0.5 , 1.  ],\n",
       "       [0.  , 1.  , 0.  , ..., 0.33, 0.  , 1.  ],\n",
       "       [0.  , 1.  , 0.  , ..., 0.33, 0.  , 1.  ]])"
      ]
     },
     "metadata": {},
     "output_type": "display_data"
    }
   ],
   "source": [
    "display(X)"
   ]
  },
  {
   "cell_type": "code",
   "execution_count": 31,
   "id": "c2d57962",
   "metadata": {},
   "outputs": [
    {
     "data": {
      "text/plain": [
       "array([[0.16078942, 0.96703744, 0.01406005, ..., 0.58186567, 0.15152209,\n",
       "        0.9196484 ],\n",
       "       [0.23045485, 0.93764144, 0.09461331, ..., 0.65611684, 0.25577453,\n",
       "        0.8667495 ],\n",
       "       [0.700374  , 0.7542522 , 0.08022233, ..., 0.60707974, 0.20183416,\n",
       "        0.8369381 ],\n",
       "       ...,\n",
       "       [0.4690293 , 0.8395848 , 0.10780191, ..., 0.49986315, 0.24799702,\n",
       "        0.82928294],\n",
       "       [0.31832418, 0.8292412 , 0.5843738 , ..., 0.53144795, 0.73232144,\n",
       "        0.3184727 ],\n",
       "       [0.9690981 , 0.01807717, 0.7503264 , ..., 0.9673677 , 0.34420663,\n",
       "        0.4342777 ]], dtype=float32)"
      ]
     },
     "metadata": {},
     "output_type": "display_data"
    }
   ],
   "source": [
    "display(last_layer)"
   ]
  },
  {
   "cell_type": "code",
   "execution_count": null,
   "id": "9138b265",
   "metadata": {},
   "outputs": [],
   "source": [
    "\n",
    "# Create spider charts\n",
    "def create_spider_chart(features, candidate_name, party):\n",
    "    # Number of variables\n",
    "    N = features.shape[0]\n",
    "    \n",
    "    # What will be the angle of each axis in the plot\n",
    "    angles = [n / float(N) * 2 * np.pi for n in range(N)]\n",
    "    angles += angles[:1]  # Close the loop\n",
    "    \n",
    "    # Spider chart setup\n",
    "    fig, ax = plt.subplots(figsize=(8, 8), subplot_kw=dict(polar=True))\n",
    "    \n",
    "    # Add the feature values\n",
    "    values = features.tolist()\n",
    "    values += values[:1]  # Close the loop\n",
    "    \n",
    "    # Plot\n",
    "    ax.plot(angles, values, linewidth=2, linestyle='solid', label=candidate_name)\n",
    "    ax.fill(angles, values, alpha=0.25)\n",
    "    \n",
    "    # Set labels\n",
    "    ax.set_xticks(angles[:-1])\n",
    "    ax.set_xticklabels([f'Dimension {i+1}' for i in range(N)])\n",
    "    \n",
    "    plt.title(f\"{candidate_name} ({party}) Political Profile\", size=20)\n",
    "    plt.tight_layout()\n",
    "    return fig\n"
   ]
  },
  {
   "cell_type": "code",
   "execution_count": null,
   "id": "bb67d505",
   "metadata": {},
   "outputs": [],
   "source": [
    "for i in range(min(5, len(df))):\n",
    "    features = encoded_features[i]\n",
    "    features = (features - features.min()) / (features.max() - features.min() + 1e-10)\n",
    "    fig = create_spider_chart(features, df.iloc[i]['firstname'] + ' ' + df.iloc[i]['lastname'], \n",
    "                              df.iloc[i]['partyAbbreviation'])\n",
    "    plt.savefig(f\"candidate_{i}_spider.png\")\n",
    "    plt.close()\n"
   ]
  },
  {
   "cell_type": "code",
   "execution_count": null,
   "id": "63a6d0d5",
   "metadata": {},
   "outputs": [
    {
     "ename": "ValueError",
     "evalue": "all the input array dimensions except for the concatenation axis must match exactly, but along dimension 1, the array at index 0 has size 376 and the array at index 1 has size 1877",
     "output_type": "error",
     "traceback": [
      "\u001b[0;31m---------------------------------------------------------------------------\u001b[0m",
      "\u001b[0;31mValueError\u001b[0m                                Traceback (most recent call last)",
      "Cell \u001b[0;32mIn[19], line 5\u001b[0m\n\u001b[1;32m      3\u001b[0m dim_corr \u001b[38;5;241m=\u001b[39m {}\n\u001b[1;32m      4\u001b[0m \u001b[38;5;28;01mfor\u001b[39;00m j, q_id \u001b[38;5;129;01min\u001b[39;00m \u001b[38;5;28menumerate\u001b[39m(question_ids):\n\u001b[0;32m----> 5\u001b[0m     corr \u001b[38;5;241m=\u001b[39m \u001b[43mnp\u001b[49m\u001b[38;5;241;43m.\u001b[39;49m\u001b[43mcorrcoef\u001b[49m\u001b[43m(\u001b[49m\u001b[43mencoded_features\u001b[49m\u001b[43m[\u001b[49m\u001b[43m:\u001b[49m\u001b[43m,\u001b[49m\u001b[43m \u001b[49m\u001b[43mdim\u001b[49m\u001b[43m]\u001b[49m\u001b[43m,\u001b[49m\u001b[43m \u001b[49m\u001b[43mX\u001b[49m\u001b[43m[\u001b[49m\u001b[43m:\u001b[49m\u001b[43m,\u001b[49m\u001b[43m \u001b[49m\u001b[43mj\u001b[49m\u001b[43m]\u001b[49m\u001b[43m)\u001b[49m[\u001b[38;5;241m0\u001b[39m, \u001b[38;5;241m1\u001b[39m]\n\u001b[1;32m      6\u001b[0m     dim_corr[q_id] \u001b[38;5;241m=\u001b[39m corr\n\u001b[1;32m      7\u001b[0m correlations\u001b[38;5;241m.\u001b[39mappend(dim_corr)\n",
      "File \u001b[0;32m/opt/homebrew/lib/python3.10/site-packages/numpy/lib/function_base.py:2889\u001b[0m, in \u001b[0;36mcorrcoef\u001b[0;34m(x, y, rowvar, bias, ddof, dtype)\u001b[0m\n\u001b[1;32m   2885\u001b[0m \u001b[38;5;28;01mif\u001b[39;00m bias \u001b[38;5;129;01mis\u001b[39;00m \u001b[38;5;129;01mnot\u001b[39;00m np\u001b[38;5;241m.\u001b[39m_NoValue \u001b[38;5;129;01mor\u001b[39;00m ddof \u001b[38;5;129;01mis\u001b[39;00m \u001b[38;5;129;01mnot\u001b[39;00m np\u001b[38;5;241m.\u001b[39m_NoValue:\n\u001b[1;32m   2886\u001b[0m     \u001b[38;5;66;03m# 2015-03-15, 1.10\u001b[39;00m\n\u001b[1;32m   2887\u001b[0m     warnings\u001b[38;5;241m.\u001b[39mwarn(\u001b[38;5;124m'\u001b[39m\u001b[38;5;124mbias and ddof have no effect and are deprecated\u001b[39m\u001b[38;5;124m'\u001b[39m,\n\u001b[1;32m   2888\u001b[0m                   \u001b[38;5;167;01mDeprecationWarning\u001b[39;00m, stacklevel\u001b[38;5;241m=\u001b[39m\u001b[38;5;241m2\u001b[39m)\n\u001b[0;32m-> 2889\u001b[0m c \u001b[38;5;241m=\u001b[39m \u001b[43mcov\u001b[49m\u001b[43m(\u001b[49m\u001b[43mx\u001b[49m\u001b[43m,\u001b[49m\u001b[43m \u001b[49m\u001b[43my\u001b[49m\u001b[43m,\u001b[49m\u001b[43m \u001b[49m\u001b[43mrowvar\u001b[49m\u001b[43m,\u001b[49m\u001b[43m \u001b[49m\u001b[43mdtype\u001b[49m\u001b[38;5;241;43m=\u001b[39;49m\u001b[43mdtype\u001b[49m\u001b[43m)\u001b[49m\n\u001b[1;32m   2890\u001b[0m \u001b[38;5;28;01mtry\u001b[39;00m:\n\u001b[1;32m   2891\u001b[0m     d \u001b[38;5;241m=\u001b[39m diag(c)\n",
      "File \u001b[0;32m/opt/homebrew/lib/python3.10/site-packages/numpy/lib/function_base.py:2683\u001b[0m, in \u001b[0;36mcov\u001b[0;34m(m, y, rowvar, bias, ddof, fweights, aweights, dtype)\u001b[0m\n\u001b[1;32m   2681\u001b[0m     \u001b[38;5;28;01mif\u001b[39;00m \u001b[38;5;129;01mnot\u001b[39;00m rowvar \u001b[38;5;129;01mand\u001b[39;00m y\u001b[38;5;241m.\u001b[39mshape[\u001b[38;5;241m0\u001b[39m] \u001b[38;5;241m!=\u001b[39m \u001b[38;5;241m1\u001b[39m:\n\u001b[1;32m   2682\u001b[0m         y \u001b[38;5;241m=\u001b[39m y\u001b[38;5;241m.\u001b[39mT\n\u001b[0;32m-> 2683\u001b[0m     X \u001b[38;5;241m=\u001b[39m \u001b[43mnp\u001b[49m\u001b[38;5;241;43m.\u001b[39;49m\u001b[43mconcatenate\u001b[49m\u001b[43m(\u001b[49m\u001b[43m(\u001b[49m\u001b[43mX\u001b[49m\u001b[43m,\u001b[49m\u001b[43m \u001b[49m\u001b[43my\u001b[49m\u001b[43m)\u001b[49m\u001b[43m,\u001b[49m\u001b[43m \u001b[49m\u001b[43maxis\u001b[49m\u001b[38;5;241;43m=\u001b[39;49m\u001b[38;5;241;43m0\u001b[39;49m\u001b[43m)\u001b[49m\n\u001b[1;32m   2685\u001b[0m \u001b[38;5;28;01mif\u001b[39;00m ddof \u001b[38;5;129;01mis\u001b[39;00m \u001b[38;5;28;01mNone\u001b[39;00m:\n\u001b[1;32m   2686\u001b[0m     \u001b[38;5;28;01mif\u001b[39;00m bias \u001b[38;5;241m==\u001b[39m \u001b[38;5;241m0\u001b[39m:\n",
      "\u001b[0;31mValueError\u001b[0m: all the input array dimensions except for the concatenation axis must match exactly, but along dimension 1, the array at index 0 has size 376 and the array at index 1 has size 1877"
     ]
    }
   ],
   "source": [
    "correlations = []\n",
    "for dim in range(encoding_dim):\n",
    "    dim_corr = {}\n",
    "    for j, q_id in enumerate(question_ids):\n",
    "        corr = np.corrcoef(encoded_features[:, dim], X[:, j])[0, 1]\n",
    "        dim_corr[q_id] = corr\n",
    "    correlations.append(dim_corr)\n"
   ]
  },
  {
   "cell_type": "code",
   "execution_count": null,
   "id": "bf04f29b",
   "metadata": {},
   "outputs": [],
   "source": [
    "for dim, corr_dict in enumerate(correlations):\n",
    "    print(f\"Dimension {dim+1} most correlated with:\")\n",
    "    top_corr = sorted(corr_dict.items(), key=lambda x: abs(x[1]), reverse=True)[:5]\n",
    "    for q_id, corr in top_corr:\n",
    "        print(f\"  Question {q_id}: {corr:.3f}\")"
   ]
  },
  {
   "cell_type": "code",
   "execution_count": null,
   "id": "2a2958e2",
   "metadata": {},
   "outputs": [],
   "source": []
  },
  {
   "cell_type": "code",
   "execution_count": null,
   "id": "3fe598d7",
   "metadata": {},
   "outputs": [],
   "source": []
  }
 ],
 "metadata": {
  "kernelspec": {
   "display_name": "Python 3",
   "language": "python",
   "name": "python3"
  },
  "language_info": {
   "codemirror_mode": {
    "name": "ipython",
    "version": 3
   },
   "file_extension": ".py",
   "mimetype": "text/x-python",
   "name": "python",
   "nbconvert_exporter": "python",
   "pygments_lexer": "ipython3",
   "version": "3.10.15"
  }
 },
 "nbformat": 4,
 "nbformat_minor": 5
}
